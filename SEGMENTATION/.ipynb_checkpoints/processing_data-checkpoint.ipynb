{
 "cells": [
  {
   "cell_type": "code",
   "execution_count": 63,
   "metadata": {},
   "outputs": [],
   "source": [
    "import torch\n",
    "import cv2\n",
    "from predict import *\n",
    "import glob\n",
    "import pandas as pd\n",
    "import ast\n",
    "import os\n",
    "import imutils"
   ]
  },
  {
   "cell_type": "code",
   "execution_count": 31,
   "metadata": {},
   "outputs": [
    {
     "data": {
      "text/html": [
       "<div>\n",
       "<style scoped>\n",
       "    .dataframe tbody tr th:only-of-type {\n",
       "        vertical-align: middle;\n",
       "    }\n",
       "\n",
       "    .dataframe tbody tr th {\n",
       "        vertical-align: top;\n",
       "    }\n",
       "\n",
       "    .dataframe thead th {\n",
       "        text-align: right;\n",
       "    }\n",
       "</style>\n",
       "<table border=\"1\" class=\"dataframe\">\n",
       "  <thead>\n",
       "    <tr style=\"text-align: right;\">\n",
       "      <th></th>\n",
       "      <th>img_id</th>\n",
       "      <th>anno_polygons</th>\n",
       "      <th>anno_texts</th>\n",
       "      <th>anno_labels</th>\n",
       "      <th>anno_num</th>\n",
       "      <th>anno_image_quality</th>\n",
       "    </tr>\n",
       "  </thead>\n",
       "  <tbody>\n",
       "    <tr>\n",
       "      <th>0</th>\n",
       "      <td>mcocr_public_145013ddcph.jpg</td>\n",
       "      <td>[{'category_id': 15, 'segmentation': [[231.9, ...</td>\n",
       "      <td>MINIMART ANAN|||Chợ Sủi Phú Thị Gia Lâm|||Ngày...</td>\n",
       "      <td>SELLER|||ADDRESS|||TIMESTAMP|||TOTAL_COST|||TO...</td>\n",
       "      <td>5</td>\n",
       "      <td>0.635309</td>\n",
       "    </tr>\n",
       "    <tr>\n",
       "      <th>1</th>\n",
       "      <td>mcocr_public_145013fxcgs.jpg</td>\n",
       "      <td>[{'category_id': 15, 'segmentation': [[311.6, ...</td>\n",
       "      <td>VinCommerce|||VM + QNH Dự án quỹ đất đường sắt...</td>\n",
       "      <td>SELLER|||ADDRESS|||ADDRESS|||ADDRESS|||TIMESTA...</td>\n",
       "      <td>7</td>\n",
       "      <td>0.774317</td>\n",
       "    </tr>\n",
       "    <tr>\n",
       "      <th>2</th>\n",
       "      <td>mcocr_public_145013clltn.jpg</td>\n",
       "      <td>[{'category_id': 15, 'segmentation': [[626.8, ...</td>\n",
       "      <td>SIEU THI BACH HOA TONG HOP|||Bố 5 Cẩm Tây - Cẩ...</td>\n",
       "      <td>SELLER|||ADDRESS|||TOTAL_COST|||TOTAL_COST|||T...</td>\n",
       "      <td>5</td>\n",
       "      <td>0.664084</td>\n",
       "    </tr>\n",
       "    <tr>\n",
       "      <th>3</th>\n",
       "      <td>mcocr_public_145013tmibr.jpg</td>\n",
       "      <td>[{'category_id': 15, 'segmentation': [[715.5, ...</td>\n",
       "      <td>co.op mart|||Co.opMart HAU GIANG|||188 Hau Gia...</td>\n",
       "      <td>SELLER|||SELLER|||ADDRESS|||ADDRESS|||TIMESTAM...</td>\n",
       "      <td>8</td>\n",
       "      <td>0.715504</td>\n",
       "    </tr>\n",
       "    <tr>\n",
       "      <th>4</th>\n",
       "      <td>mcocr_public_145013kgypr.jpg</td>\n",
       "      <td>[{'category_id': 16, 'segmentation': [[200.5, ...</td>\n",
       "      <td>Tổ 7, Khu Minh Tiến A|||VinCommerce|||Ngày bán...</td>\n",
       "      <td>ADDRESS|||SELLER|||TIMESTAMP|||TOTAL_COST|||TO...</td>\n",
       "      <td>5</td>\n",
       "      <td>0.766884</td>\n",
       "    </tr>\n",
       "  </tbody>\n",
       "</table>\n",
       "</div>"
      ],
      "text/plain": [
       "                         img_id  \\\n",
       "0  mcocr_public_145013ddcph.jpg   \n",
       "1  mcocr_public_145013fxcgs.jpg   \n",
       "2  mcocr_public_145013clltn.jpg   \n",
       "3  mcocr_public_145013tmibr.jpg   \n",
       "4  mcocr_public_145013kgypr.jpg   \n",
       "\n",
       "                                       anno_polygons  \\\n",
       "0  [{'category_id': 15, 'segmentation': [[231.9, ...   \n",
       "1  [{'category_id': 15, 'segmentation': [[311.6, ...   \n",
       "2  [{'category_id': 15, 'segmentation': [[626.8, ...   \n",
       "3  [{'category_id': 15, 'segmentation': [[715.5, ...   \n",
       "4  [{'category_id': 16, 'segmentation': [[200.5, ...   \n",
       "\n",
       "                                          anno_texts  \\\n",
       "0  MINIMART ANAN|||Chợ Sủi Phú Thị Gia Lâm|||Ngày...   \n",
       "1  VinCommerce|||VM + QNH Dự án quỹ đất đường sắt...   \n",
       "2  SIEU THI BACH HOA TONG HOP|||Bố 5 Cẩm Tây - Cẩ...   \n",
       "3  co.op mart|||Co.opMart HAU GIANG|||188 Hau Gia...   \n",
       "4  Tổ 7, Khu Minh Tiến A|||VinCommerce|||Ngày bán...   \n",
       "\n",
       "                                         anno_labels  anno_num  \\\n",
       "0  SELLER|||ADDRESS|||TIMESTAMP|||TOTAL_COST|||TO...         5   \n",
       "1  SELLER|||ADDRESS|||ADDRESS|||ADDRESS|||TIMESTA...         7   \n",
       "2  SELLER|||ADDRESS|||TOTAL_COST|||TOTAL_COST|||T...         5   \n",
       "3  SELLER|||SELLER|||ADDRESS|||ADDRESS|||TIMESTAM...         8   \n",
       "4  ADDRESS|||SELLER|||TIMESTAMP|||TOTAL_COST|||TO...         5   \n",
       "\n",
       "   anno_image_quality  \n",
       "0            0.635309  \n",
       "1            0.774317  \n",
       "2            0.664084  \n",
       "3            0.715504  \n",
       "4            0.766884  "
      ]
     },
     "execution_count": 31,
     "metadata": {},
     "output_type": "execute_result"
    }
   ],
   "source": [
    "df = df = pd.read_csv(\"/home/thorpham/Desktop/OCR/processing_data/mcocr2021_public_train_test_data/mcocr_public_train_test_shared_data/mcocr_train_data/mcocr_train_df.csv\")\n",
    "df.head()"
   ]
  },
  {
   "cell_type": "code",
   "execution_count": 11,
   "metadata": {},
   "outputs": [],
   "source": [
    "index2label = {\n",
    "15: \"SELLER\",\n",
    "16: \"ADDRESS\",\n",
    "17: \"TIMESTAMP\",\n",
    "18: \"TOTAL_COST\"\n",
    "}"
   ]
  },
  {
   "cell_type": "code",
   "execution_count": 24,
   "metadata": {},
   "outputs": [],
   "source": [
    "path = \"/home/thorpham/Desktop/OCR/processing_data/mcocr2021_public_train_test_data/mcocr_public_train_test_shared_data/mcocr_train_data/train_images\"\n",
    "net = Inference(size=320, weight=\"weights/u2net_bce.pth\", cuda=True)"
   ]
  },
  {
   "cell_type": "code",
   "execution_count": 52,
   "metadata": {},
   "outputs": [],
   "source": [
    "for i in range(len(df))[10:20]:\n",
    "    img = df.iloc[i][\"img_id\"]\n",
    "    bbox = ast.literal_eval(df.iloc[i][\"anno_polygons\"])\n",
    "    anno_labels = df.iloc[i][\"anno_labels\"].split(\"|||\")\n",
    "    image = cv2.imread(os.path.join(path,img))\n",
    "    image_copy= image.copy()\n",
    "    # predict image\n",
    "    predict_np,predict = net.inference_remove_item_background(os.path.join(path,img))\n",
    "    # contour\n",
    "    gray = predict_np*255\n",
    "    ret, thresh = cv2.threshold(gray, 127, 255, 0)\n",
    "    contours, hierarchy = cv2.findContours(np.array(thresh,np.uint8), cv2.RETR_EXTERNAL, cv2.CHAIN_APPROX_NONE)\n",
    "    cnt = max(contours, key = cv2.contourArea)\n",
    "    x,y,w,h = cv2.boundingRect(cnt)\n",
    "    crop = image_copy[y:y+h,x:x+w]\n",
    "    for k,v in zip(range(len(bbox)),anno_labels):\n",
    "        tmp = bbox[k]\n",
    "        xb,yb,wb,hb = [int(i) for i in tmp[\"bbox\"]]\n",
    "        class_id = tmp[\"category_id\"]\n",
    "        class_name = index2label[class_id]\n",
    "        xb_new= xb-x\n",
    "        yb_new = yb-y\n",
    "        cv2.putText(image,  class_name, (xb,yb), cv2.FONT_HERSHEY_SIMPLEX, 0.7, (0,255,0,0.1), 1, cv2.LINE_AA)\n",
    "        cv2.rectangle(image,(xb,yb),(xb+wb,yb+hb),(0,0,255,0.5),2)\n",
    "        cv2.putText(crop,  class_name, (xb_new,yb_new), cv2.FONT_HERSHEY_SIMPLEX, 0.7, (0,255,0,0.1), 1, cv2.LINE_AA)\n",
    "        cv2.rectangle(crop,(xb_new,yb_new),(xb_new+wb,yb_new+hb),(0,0,255,0.5),2)\n",
    "\n",
    "        cv2.imshow(\"original\",cv2.resize(image,(600,1000)))\n",
    "        cv2.imshow(\"crop\",cv2.resize(crop,(600,1000)))\n",
    "        cv2.waitKey(0)\n",
    "cv2.destroyAllWindows()"
   ]
  },
  {
   "cell_type": "code",
   "execution_count": 42,
   "metadata": {},
   "outputs": [
    {
     "data": {
      "text/plain": [
       "5"
      ]
     },
     "execution_count": 42,
     "metadata": {},
     "output_type": "execute_result"
    }
   ],
   "source": [
    "([x, y] - [a, b]) * [ [cos(alpha), sin(alpha)], [-sin(alpha), cos(alpha)]] + [a, b]"
   ]
  },
  {
   "cell_type": "code",
   "execution_count": null,
   "metadata": {},
   "outputs": [],
   "source": [
    "# cnt = max(contours, key = cv2.contourArea)\n",
    "# rect = cv2.minAreaRect(cnt)\n",
    "# box = cv2.boxPoints(rect)\n",
    "# box = np.int0(box)\n",
    "# # cv2.drawContours(predict,[box],0,(0,0,255),2)\n",
    "# angle = rect[-1]\n",
    "# print(\"angle\",angle)\n",
    "# p=np.array(rect[1])\n",
    "# if angle <-45 :\n",
    "#     angle = 90+angle\n",
    "# (h, w) = predict.shape[:2]\n",
    "# center = (w // 2, h // 2)\n",
    "# M = cv2.getRotationMatrix2D(center, angle, 1.0)\n",
    "# # rotated = cv2.warpAffine(predict, M, (w, h),flags=cv2.INTER_CUBIC, borderMode=cv2.BORDER_REPLICATE)\n",
    "# image_crop = imutils.rotate(image, angle)"
   ]
  },
  {
   "cell_type": "code",
   "execution_count": 60,
   "metadata": {},
   "outputs": [],
   "source": [
    "def rotate(image,point,cnt):\n",
    "    '''([x, y] - [a, b]) * [ [cos(alpha), sin(alpha)], [-sin(alpha), cos(alpha)]] + [a, b]'''\n",
    "    (h, w) = predict.shape[:2]\n",
    "    rect = cv2.minAreaRect(cnt)\n",
    "    angle = rect[-1]\n",
    "    if angle <-45 :\n",
    "        angle = 90 + angle\n",
    "    center = (w // 2, h // 2)\n",
    "    matrix_rotate = np.array([[np.cos(angle),np.sin(angle)],\n",
    "                             [-np.sin(angle),np.cos(angle)]])\n",
    "    new_point = np.dot((point - np.array([w,h])) , matrix_rotate)  + np.array([w,h])\n",
    "    return  new_point                                                        \n",
    "                                                                    "
   ]
  },
  {
   "cell_type": "code",
   "execution_count": 113,
   "metadata": {},
   "outputs": [],
   "source": [
    "for i in range(len(df))[100:130]:\n",
    "    img = df.iloc[i][\"img_id\"]\n",
    "    bbox = ast.literal_eval(df.iloc[i][\"anno_polygons\"])\n",
    "    anno_labels = df.iloc[i][\"anno_labels\"].split(\"|||\")\n",
    "    image = cv2.imread(os.path.join(path,img))\n",
    "    image_copy= image.copy()\n",
    "    # predict image\n",
    "    predict_np,predict = net.inference_remove_item_background(os.path.join(path,img))\n",
    "    # contour\n",
    "    gray = predict_np*255\n",
    "    ret, thresh = cv2.threshold(gray, 127, 255, 0)\n",
    "    contours1, hierarchy = cv2.findContours(np.array(thresh,np.uint8), cv2.RETR_EXTERNAL, cv2.CHAIN_APPROX_NONE)\n",
    "    cnt1 = max(contours1, key = cv2.contourArea)\n",
    "    x1,y1,w1,h1 = cv2.boundingRect(cnt1)\n",
    "    rect1 = cv2.minAreaRect(cnt1)\n",
    "    boxpoints_1 = cv2.boxPoints(rect1)\n",
    "    \n",
    "    angle = rect1[-1]\n",
    "    if angle <-45 :\n",
    "        angle = 90+angle\n",
    "    (h, w) = predict.shape[:2]\n",
    "    center = (w // 2, h // 2)\n",
    "    image_crop = imutils.rotate(image, angle)\n",
    "    rotated_py = imutils.rotate(gray, angle)\n",
    "    ret, rotated_py = cv2.threshold(rotated_py, 127, 255, 0)\n",
    "    contours2, hierarchy = cv2.findContours(np.array(rotated_py,np.uint8), cv2.RETR_EXTERNAL, cv2.CHAIN_APPROX_NONE)\n",
    "    cnt2 = max(contours2, key = cv2.contourArea)\n",
    "#     cv2.drawContours(image_crop,[cnt2],0,(0,0,255),2)\n",
    "    rect = cv2.minAreaRect(cnt2)\n",
    "    boxpoints_2 = cv2.boxPoints(rect)\n",
    "    x2,y2,w2,h2 = cv2.boundingRect(cnt2)\n",
    "#     pts1 = np.float32([[x1,y1],[x1+w1,y1],[x1+w1,y1+h1],[x1,y1+h1]])\n",
    "#     pts2 = np.float32([[x2,y2],[x2+w2,y2],[x2+w2,y2+h2],[x2,y2+h2]])\n",
    "#     M = cv2.getPerspectiveTransform(boxpoints_1,boxpoints_2)\n",
    "    M = cv2.getRotationMatrix2D(center, angle, 1.0)\n",
    "    crop = image[y2:y2+h2,x2:x2+w2]\n",
    "    (h, w) = predict.shape[:2]\n",
    "    for k,v in zip(range(len(bbox)),anno_labels):\n",
    "        tmp = bbox[k]\n",
    "        xb,yb,wb,hb = [int(i) for i in tmp[\"bbox\"]]\n",
    "        xmax,ymax =  xb + wb , yb + hb\n",
    "#         new_point = cv2.warpAffine((np.array([xb,yb])),M,(w,h))\n",
    "        new_point_1 = np.matmul(M, np.array([xb,yb,1]))\n",
    "        new_point_2 = np.matmul(M, np.array([xmax,ymax,1]))\n",
    "        \n",
    "#         new_point = (int(i) for i in new_point)\n",
    "        cv2.rectangle(image_crop,(int(new_point_1[0]),int(new_point_1[1])),(int(new_point_2[0]),int(new_point_2[1])),(0,0,255,0.5),2)\n",
    "        cv2.rectangle(image,(xb,yb),(xb+wb,yb+hb),(0,0,255,0.5),2)\n",
    "    \n",
    "    \n",
    "    \n",
    "    cv2.imshow(\"original\",cv2.resize(image,(600,1000)))\n",
    "    cv2.imshow(\"crop\",cv2.resize(image_crop,(600,1000)))\n",
    "    cv2.waitKey(0)\n",
    "cv2.destroyAllWindows()"
   ]
  },
  {
   "cell_type": "code",
   "execution_count": 102,
   "metadata": {},
   "outputs": [],
   "source": [
    "center = (w // 2, h // 2)\n",
    "M = cv2.getRotationMatrix2D(center, angle, 1.0)"
   ]
  },
  {
   "cell_type": "code",
   "execution_count": 103,
   "metadata": {},
   "outputs": [
    {
     "data": {
      "text/plain": [
       "array([[  0.99846035,  -0.05547002,  28.99187399],\n",
       "       [  0.05547002,   0.99846035, -20.51218809]])"
      ]
     },
     "execution_count": 103,
     "metadata": {},
     "output_type": "execute_result"
    }
   ],
   "source": [
    "M"
   ]
  },
  {
   "cell_type": "code",
   "execution_count": 130,
   "metadata": {},
   "outputs": [],
   "source": [
    "for i in range(len(df))[:10]:\n",
    "    img = df.iloc[i][\"img_id\"]\n",
    "    name = os.path.basename(img).split(\".\")[0] + \".txt\"\n",
    "    bbox = ast.literal_eval(df.iloc[i][\"anno_polygons\"])\n",
    "    anno_labels = df.iloc[i][\"anno_texts\"].split(\"|||\")\n",
    "    image = cv2.imread(os.path.join(path,img))\n",
    "    image_copy= image.copy()\n",
    "    # predict image\n",
    "    predict_np,predict = net.inference_remove_item_background(os.path.join(path,img))\n",
    "    # contour\n",
    "    gray = predict_np*255\n",
    "    ret, thresh = cv2.threshold(gray, 127, 255, 0)\n",
    "    contours1, hierarchy = cv2.findContours(np.array(thresh,np.uint8), cv2.RETR_EXTERNAL, cv2.CHAIN_APPROX_NONE)\n",
    "    cnt = max(contours, key = cv2.contourArea)\n",
    "    x1,y1,w1,h1 = cv2.boundingRect(cnt1)\n",
    "    # \n",
    "    rect1 = cv2.minAreaRect(cnt1)\n",
    "    angle = rect1[-1]\n",
    "    if angle <-45 :\n",
    "        angle = 90+angle\n",
    "    (h, w) = predict.shape[:2]\n",
    "    center = (w // 2, h // 2)\n",
    "    # rotate image\n",
    "    image_crop = imutils.rotate(image, angle)\n",
    "    rotated_py = imutils.rotate(gray, angle)\n",
    "    ret, rotated_py = cv2.threshold(rotated_py, 127, 255, 0)\n",
    "    contours2, hierarchy = cv2.findContours(np.array(rotated_py,np.uint8), cv2.RETR_EXTERNAL, cv2.CHAIN_APPROX_NONE)\n",
    "    cnt2 = max(contours2, key = cv2.contourArea)\n",
    "    x2,y2,w2,h2 = cv2.boundingRect(cnt2)\n",
    "    M = cv2.getRotationMatrix2D(center, angle, 1.0)\n",
    "    crop = image_copy[y2:y2+h2,x2:x2+w2]\n",
    "    with open(f\"/home/thorpham/Desktop/OCR/processing_data/data_crop_and_rotate/{name}\",\"w\") as f:\n",
    "        for k,v in zip(range(len(bbox)),anno_labels):\n",
    "            tmp = bbox[k]\n",
    "            xb,yb,wb,hb = [int(i) for i in tmp[\"bbox\"]]\n",
    "            xmax,ymax =  xb + wb , yb + hb\n",
    "            # rotate p1 ,p2\n",
    "            points1 = np.matmul(M, np.array([xb,yb,1]))\n",
    "            points2 = np.matmul(M, np.array([xmax,ymax,1]))\n",
    "            points1 = [int(i) for i in points1]\n",
    "            points2 = [int(i) for i in points2]\n",
    "            w_new,h_new = points2[0]-points1[0],points2[1]-points1[1]\n",
    "            #get class id\n",
    "            class_id = tmp[\"category_id\"]\n",
    "            class_name = index2label[class_id]\n",
    "            xb_new= points1[0]-x2\n",
    "            yb_new = points1[1]-y2\n",
    "            save = [xb_new,yb_new,w_new,h_new,v,class_name]\n",
    "            f.write(\"\\t\".join([str(i) for i in save])+\"\\n\")\n",
    "#         cv2.putText(image,  class_name, (xb,yb), cv2.FONT_HERSHEY_SIMPLEX, 0.7, (0,255,0,0.1), 1, cv2.LINE_AA)\n",
    "#         cv2.rectangle(image,(xb,yb),(xb+wb,yb+hb),(0,0,255,0.5),2)\n",
    "#         cv2.putText(crop,  class_name, (xb_new-5,yb_new-5), cv2.FONT_HERSHEY_SIMPLEX, 0.3, (170,0,255,0.4), 1, cv2.LINE_AA)\n",
    "#         cv2.rectangle(crop,(xb_new,yb_new),(xb_new+wb,yb_new+hb),(0,0,255,0.5),2)\n",
    "\n",
    "#     cv2.imshow(\"original\",cv2.resize(image,(600,1000)))\n",
    "#     cv2.imshow(\"crop\",cv2.resize(crop,(600,1000)))\n",
    "#     cv2.waitKey(0)\n",
    "# cv2.destroyAllWindows()"
   ]
  },
  {
   "cell_type": "code",
   "execution_count": 132,
   "metadata": {},
   "outputs": [
    {
     "data": {
      "text/plain": [
       "['SELLER',\n",
       " 'ADDRESS',\n",
       " 'ADDRESS',\n",
       " 'ADDRESS',\n",
       " 'TIMESTAMP',\n",
       " 'TOTAL_COST',\n",
       " 'TOTAL_COST']"
      ]
     },
     "execution_count": 132,
     "metadata": {},
     "output_type": "execute_result"
    }
   ],
   "source": [
    "anno_labels"
   ]
  },
  {
   "cell_type": "code",
   "execution_count": null,
   "metadata": {},
   "outputs": [],
   "source": []
  }
 ],
 "metadata": {
  "kernelspec": {
   "display_name": "Python 3",
   "language": "python",
   "name": "python3"
  },
  "language_info": {
   "codemirror_mode": {
    "name": "ipython",
    "version": 3
   },
   "file_extension": ".py",
   "mimetype": "text/x-python",
   "name": "python",
   "nbconvert_exporter": "python",
   "pygments_lexer": "ipython3",
   "version": "3.6.10"
  }
 },
 "nbformat": 4,
 "nbformat_minor": 4
}
